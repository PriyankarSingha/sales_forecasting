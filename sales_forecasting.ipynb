{
 "cells": [
  {
   "cell_type": "code",
   "execution_count": 34,
   "id": "97bec0f3-b9a1-4b69-b82a-1deaf4036f58",
   "metadata": {},
   "outputs": [
    {
     "name": "stdout",
     "output_type": "stream",
     "text": [
      "Installing statsmodels...\n",
      "Resolving statsmodels...\n",
      "[    ] Installing...\n",
      "Added statsmodels to Pipfile's [packages] ...\n",
      "[    ] Installing statsmodels...\n",
      "Installation Succeeded\n",
      "[    ] Installing statsmodels...\n",
      "[    ] Installing statsmodels...\n",
      "\n",
      "Building requirements...\n",
      "[    ] Locking...\n",
      "Resolving dependencies...\n",
      "[    ] Locking...\n",
      "[=   ] Locking...\n",
      "[==  ] Locking...\n",
      "[=== ] Locking...\n",
      "[ ===] Locking...\n",
      "[  ==] Locking...\n",
      "[    ] Locking...\n",
      "[   =] Locking...\n",
      "[  ==] Locking...\n",
      "[ ===] Locking...\n",
      "[====] Locking...\n",
      "[=== ] Locking...\n",
      "[=   ] Locking...\n",
      "[    ] Locking...\n",
      "[=   ] Locking...\n",
      "[==  ] Locking...\n",
      "[=== ] Locking...\n",
      "[ ===] Locking...\n",
      "[   =] Locking...\n",
      "[    ] Locking...\n",
      "[   =] Locking...\n",
      "[  ==] Locking...\n",
      "[ ===] Locking...\n",
      "[====] Locking...\n",
      "[==  ] Locking...\n",
      "[=   ] Locking...\n",
      "[    ] Locking...\n",
      "[=   ] Locking...\n",
      "[==  ] Locking...\n",
      "[=== ] Locking...\n",
      "[  ==] Locking...\n",
      "[   =] Locking...\n",
      "[    ] Locking...\n",
      "[   =] Locking...\n",
      "[  ==] Locking...\n",
      "[====] Locking...\n",
      "[=== ] Locking...\n",
      "[==  ] Locking...\n",
      "[=   ] Locking...\n",
      "[    ] Locking...\n",
      "[=   ] Locking...\n",
      "[==  ] Locking...\n",
      "[ ===] Locking...\n",
      "[  ==] Locking...\n",
      "[   =] Locking...\n",
      "[    ] Locking...\n",
      "[   =] Locking...\n",
      "[  ==] Locking...\n",
      "[====] Locking...\n",
      "[=== ] Locking...\n",
      "[==  ] Locking...\n",
      "[=   ] Locking...\n",
      "[    ] Locking...\n",
      "[=   ] Locking...\n",
      "[=== ] Locking...\n",
      "[ ===] Locking...\n",
      "[  ==] Locking...\n",
      "[   =] Locking...\n",
      "[    ] Locking...\n",
      "[   =] Locking...\n",
      "[ ===] Locking...\n",
      "[====] Locking...\n",
      "[=== ] Locking...\n",
      "[==  ] Locking...\n",
      "[=   ] Locking...\n",
      "[    ] Locking...\n",
      "[=   ] Locking...\n",
      "[=== ] Locking...\n",
      "[ ===] Locking...\n",
      "[  ==] Locking...\n",
      "[   =] Locking...\n",
      "[    ] Locking...\n",
      "[   =] Locking...\n",
      "[ ===] Locking...\n",
      "[====] Locking...\n",
      "[=== ] Locking...\n",
      "[==  ] Locking...\n",
      "[=   ] Locking...\n",
      "[=   ] Locking...\n",
      "[==  ] Locking...\n",
      "[=== ] Locking...\n",
      "[ ===] Locking...\n",
      "[  ==] Locking...\n",
      "[   =] Locking...\n",
      "[    ] Locking...\n",
      "[  ==] Locking...\n",
      "[ ===] Locking...\n",
      "[====] Locking...\n",
      "[=== ] Locking...\n",
      "[==  ] Locking...\n",
      "[=   ] Locking...\n",
      "[=   ] Locking...\n",
      "[==  ] Locking...\n",
      "[=== ] Locking...\n",
      "[ ===] Locking...\n",
      "[  ==] Locking...\n",
      "[   =] Locking...\n",
      "[   =] Locking...\n",
      "[  ==] Locking...\n",
      "[ ===] Locking...\n",
      "[====] Locking...\n",
      "[=== ] Locking...\n",
      "[==  ] Locking...\n",
      "[    ] Locking...\n",
      "[=   ] Locking...\n",
      "[==  ] Locking...\n",
      "[=== ] Locking...\n",
      "[ ===] Locking...\n",
      "[  ==] Locking...\n",
      "[    ] Locking...\n",
      "[   =] Locking...\n",
      "[  ==] Locking...\n",
      "[ ===] Locking...\n",
      "[====] Locking...\n",
      "[==  ] Locking...\n",
      "[=   ] Locking...\n",
      "[    ] Locking...\n",
      "[=   ] Locking...\n",
      "[==  ] Locking...\n",
      "[=== ] Locking...\n",
      "[ ===] Locking...\n",
      "[   =] Locking...\n",
      "[    ] Locking...\n",
      "[   =] Locking...\n",
      "[  ==] Locking...\n",
      "[ ===] Locking...\n",
      "[====] Locking...\n",
      "[==  ] Locking...\n",
      "[=   ] Locking...\n",
      "[    ] Locking...\n",
      "[=   ] Locking...\n",
      "[==  ] Locking...\n",
      "[=== ] Locking...\n",
      "[  ==] Locking...\n",
      "[   =] Locking...\n",
      "[    ] Locking...\n",
      "[   =] Locking...\n",
      "[  ==] Locking...\n",
      "[ ===] Locking...\n",
      "[=== ] Locking...\n",
      "[==  ] Locking...\n",
      "[=   ] Locking...\n",
      "[    ] Locking...\n",
      "[=   ] Locking...\n",
      "[==  ] Locking...\n",
      "[=== ] Locking...\n",
      "[  ==] Locking...\n",
      "[   =] Locking...\n",
      "[    ] Locking...\n",
      "[   =] Locking...\n",
      "[  ==] Locking...\n",
      "[ ===] Locking...\n",
      "[=== ] Locking...\n",
      "[==  ] Locking...\n",
      "[=   ] Locking...\n",
      "[    ] Locking...\n",
      "[=   ] Locking...\n",
      "[=== ] Locking...\n",
      "[ ===] Locking...\n",
      "[  ==] Locking...\n",
      "[   =] Locking...\n",
      "[    ] Locking...\n",
      "[   =] Locking...\n",
      "[ ===] Locking...\n",
      "[====] Locking...\n",
      "[=== ] Locking...\n",
      "[==  ] Locking...\n",
      "[=   ] Locking...\n",
      "[    ] Locking...\n",
      "[=   ] Locking...\n",
      "[=== ] Locking...\n",
      "[ ===] Locking...\n",
      "[  ==] Locking...\n",
      "[   =] Locking...\n",
      "[    ] Locking...\n",
      "[   =] Locking...\n",
      "[ ===] Locking...\n",
      "[====] Locking...\n",
      "[=== ] Locking...\n",
      "[==  ] Locking...\n",
      "[=   ] Locking...\n",
      "[    ] Locking...\n",
      "[==  ] Locking...\n",
      "[=== ] Locking...\n",
      "[ ===] Locking...\n",
      "[  ==] Locking...\n",
      "[   =] Locking...\n",
      "[    ] Locking...\n",
      "[   =] Locking...\n",
      "[ ===] Locking...\n",
      "[====] Locking...\n",
      "[=== ] Locking...\n",
      "[==  ] Locking...\n",
      "[=   ] Locking...\n",
      "[    ] Locking...\n",
      "[==  ] Locking...\n",
      "[=== ] Locking...\n",
      "[ ===] Locking...\n",
      "[  ==] Locking...\n",
      "[   =] Locking...\n",
      "[   =] Locking...\n",
      "[  ==] Locking...\n",
      "[ ===] Locking...\n",
      "[====] Locking...\n",
      "[=== ] Locking...\n",
      "[==  ] Locking...\n",
      "[=   ] Locking...\n",
      "[=   ] Locking...\n",
      "[==  ] Locking...\n",
      "[=== ] Locking...\n",
      "[ ===] Locking...\n",
      "[  ==] Locking...\n",
      "[   =] Locking...\n",
      "[   =] Locking...\n",
      "[  ==] Locking...\n",
      "[ ===] Locking...\n",
      "[====] Locking...\n",
      "[=== ] Locking...\n",
      "[==  ] Locking...\n",
      "[    ] Locking...\n",
      "[=   ] Locking...\n",
      "[==  ] Locking...\n",
      "[=== ] Locking...\n",
      "[ ===] Locking...\n",
      "[  ==] Locking...\n",
      "[    ] Locking...\n",
      "[   =] Locking...\n",
      "[  ==] Locking...\n",
      "[ ===] Locking...\n",
      "[====] Locking...\n",
      "[=== ] Locking...\n",
      "[=   ] Locking...\n",
      "[    ] Locking...\n",
      "[=   ] Locking...\n",
      "[==  ] Locking...\n",
      "[=== ] Locking...\n",
      "[  ==] Locking...\n",
      "[   =] Locking...\n",
      "[    ] Locking...\n",
      "[   =] Locking...\n",
      "[  ==] Locking...\n",
      "[ ===] Locking...\n",
      "[=== ] Locking...\n",
      "[==  ] Locking...\n",
      "[=   ] Locking...\n",
      "[    ] Locking...\n",
      "[=   ] Locking...\n",
      "[==  ] Locking...\n",
      "[=== ] Locking...\n",
      "[  ==] Locking...\n",
      "[   =] Locking...\n",
      "[    ] Locking...\n",
      "[   =] Locking...\n",
      "[  ==] Locking...\n",
      "[ ===] Locking...\n",
      "[=== ] Locking...\n",
      "[==  ] Locking...\n",
      "[=   ] Locking...\n",
      "[    ] Locking...\n",
      "[=   ] Locking...\n",
      "[==  ] Locking...\n",
      "[ ===] Locking...\n",
      "[  ==] Locking...\n",
      "[   =] Locking...\n",
      "[    ] Locking...\n",
      "[   =] Locking...\n",
      "[  ==] Locking...\n",
      "[ ===] Locking...\n",
      "[=== ] Locking...\n",
      "[==  ] Locking...\n",
      "[=   ] Locking...\n",
      "[    ] Locking...\n",
      "[=   ] Locking...\n",
      "[==  ] Locking...\n",
      "[ ===] Locking...\n",
      "[  ==] Locking...\n",
      "[   =] Locking...\n",
      "[    ] Locking...\n",
      "[   =] Locking...\n",
      "[ ===] Locking...\n",
      "[====] Locking...\n",
      "[=== ] Locking...\n",
      "[==  ] Locking...\n",
      "[=   ] Locking...\n",
      "[    ] Locking...\n",
      "[==  ] Locking...\n",
      "[=== ] Locking...\n",
      "[ ===] Locking...\n",
      "[  ==] Locking...\n",
      "[   =] Locking...\n",
      "[    ] Locking...\n",
      "[   =] Locking...\n",
      "[ ===] Locking...\n",
      "[====] Locking...\n",
      "[=== ] Locking...\n",
      "[==  ] Locking...\n",
      "[=   ] Locking...\n",
      "[    ] Locking...\n",
      "[==  ] Locking...\n",
      "[=== ] Locking...\n",
      "[ ===] Locking...\n",
      "[  ==] Locking...\n",
      "[   =] Locking...\n",
      "[    ] Locking...\n",
      "[  ==] Locking...\n",
      "[ ===] Locking...\n",
      "[====] Locking...\n",
      "[=== ] Locking...\n",
      "[==  ] Locking...\n",
      "[=   ] Locking...\n",
      "[=   ] Locking...\n",
      "[==  ] Locking...\n",
      "[=== ] Locking...\n",
      "[ ===] Locking...\n",
      "[  ==] Locking...\n",
      "[   =] Locking...\n",
      "[    ] Locking...\n",
      "[  ==] Locking...\n",
      "[ ===] Locking...\n",
      "[====] Locking...\n",
      "[=== ] Locking...\n",
      "[==  ] Locking...\n",
      "[    ] Locking...\n",
      "[=   ] Locking...\n",
      "[==  ] Locking...\n",
      "[=== ] Locking...\n",
      "[ ===] Locking...\n",
      "[  ==] Locking...\n",
      "[    ] Locking...\n",
      "[   =] Locking...\n",
      "[  ==] Locking...\n",
      "[ ===] Locking...\n",
      "[====] Locking...\n",
      "[=== ] Locking...\n",
      "[=   ] Locking...\n",
      "[    ] Locking...\n",
      "[=   ] Locking...\n",
      "[==  ] Locking...\n",
      "[=== ] Locking...\n",
      "[ ===] Locking...\n",
      "[   =] Locking...\n",
      "[    ] Locking...\n",
      "[   =] Locking...\n",
      "Success!\n",
      "[  ==] Locking...\n",
      "[  ==] Locking...\n",
      "\n",
      "Installing dependencies from Pipfile.lock (4a1a76)...\n"
     ]
    },
    {
     "name": "stderr",
     "output_type": "stream",
     "text": [
      "Pipfile.lock (d38613) out of date, updating to (4a1a76)...\n",
      "Locking [packages] dependencies...\n",
      "Locking [dev-packages] dependencies...\n",
      "Updated Pipfile.lock (f66d6c146689b5c34bd8cac6ba00da89cb8d0ea7bea8a9166b9d02082b4a1a76)!\n"
     ]
    }
   ],
   "source": [
    "!pipenv install statsmodels"
   ]
  },
  {
   "cell_type": "code",
   "execution_count": 1,
   "id": "b99638c3-ba96-4c74-b091-8904263d9a50",
   "metadata": {},
   "outputs": [],
   "source": [
    "import pandas as pd\n",
    "import numpy as np"
   ]
  },
  {
   "cell_type": "code",
   "execution_count": 2,
   "id": "392233a3-80c3-4ca8-af48-89f06965acf7",
   "metadata": {},
   "outputs": [
    {
     "data": {
      "text/html": [
       "<div>\n",
       "<style scoped>\n",
       "    .dataframe tbody tr th:only-of-type {\n",
       "        vertical-align: middle;\n",
       "    }\n",
       "\n",
       "    .dataframe tbody tr th {\n",
       "        vertical-align: top;\n",
       "    }\n",
       "\n",
       "    .dataframe thead th {\n",
       "        text-align: right;\n",
       "    }\n",
       "</style>\n",
       "<table border=\"1\" class=\"dataframe\">\n",
       "  <thead>\n",
       "    <tr style=\"text-align: right;\">\n",
       "      <th></th>\n",
       "      <th>Month</th>\n",
       "      <th>Perrin Freres monthly champagne sales millions ?64-?72</th>\n",
       "    </tr>\n",
       "  </thead>\n",
       "  <tbody>\n",
       "    <tr>\n",
       "      <th>0</th>\n",
       "      <td>1964-01</td>\n",
       "      <td>2815.0</td>\n",
       "    </tr>\n",
       "    <tr>\n",
       "      <th>1</th>\n",
       "      <td>1964-02</td>\n",
       "      <td>2672.0</td>\n",
       "    </tr>\n",
       "    <tr>\n",
       "      <th>2</th>\n",
       "      <td>1964-03</td>\n",
       "      <td>2755.0</td>\n",
       "    </tr>\n",
       "    <tr>\n",
       "      <th>3</th>\n",
       "      <td>1964-04</td>\n",
       "      <td>2721.0</td>\n",
       "    </tr>\n",
       "    <tr>\n",
       "      <th>4</th>\n",
       "      <td>1964-05</td>\n",
       "      <td>2946.0</td>\n",
       "    </tr>\n",
       "  </tbody>\n",
       "</table>\n",
       "</div>"
      ],
      "text/plain": [
       "     Month  Perrin Freres monthly champagne sales millions ?64-?72\n",
       "0  1964-01                                             2815.0     \n",
       "1  1964-02                                             2672.0     \n",
       "2  1964-03                                             2755.0     \n",
       "3  1964-04                                             2721.0     \n",
       "4  1964-05                                             2946.0     "
      ]
     },
     "execution_count": 2,
     "metadata": {},
     "output_type": "execute_result"
    }
   ],
   "source": [
    "df = pd.read_csv('perrin-freres-monthly-champagne-.csv')\n",
    "df.head()"
   ]
  },
  {
   "cell_type": "code",
   "execution_count": 3,
   "id": "03bb9cba-8bc1-4d20-9116-25709b9cd57d",
   "metadata": {},
   "outputs": [],
   "source": [
    "df.columns = [\"Month\",\"Sales\"]"
   ]
  },
  {
   "cell_type": "code",
   "execution_count": 4,
   "id": "8f477de4-af84-4e6d-8ade-dc222fe284fd",
   "metadata": {},
   "outputs": [],
   "source": [
    "df.drop([105,106], axis=0, inplace=True)"
   ]
  },
  {
   "cell_type": "code",
   "execution_count": 5,
   "id": "751cc407-4a8a-4747-b709-2546b8ad5fea",
   "metadata": {},
   "outputs": [
    {
     "data": {
      "text/plain": [
       "Month    0\n",
       "Sales    0\n",
       "dtype: int64"
      ]
     },
     "execution_count": 5,
     "metadata": {},
     "output_type": "execute_result"
    }
   ],
   "source": [
    "df.isnull().sum()"
   ]
  },
  {
   "cell_type": "code",
   "execution_count": 6,
   "id": "10e5cf22-cead-4c36-9c7c-b64ad232e29a",
   "metadata": {},
   "outputs": [],
   "source": [
    "df['Month'] = pd.to_datetime(df['Month'])"
   ]
  },
  {
   "cell_type": "code",
   "execution_count": 7,
   "id": "aedd99b8-29bd-4f8a-832d-b7d86260da4f",
   "metadata": {},
   "outputs": [],
   "source": [
    "df.set_index('Month',inplace=True)"
   ]
  },
  {
   "cell_type": "code",
   "execution_count": 8,
   "id": "1e76cf1f-a9ff-4691-980e-34bb0558767d",
   "metadata": {},
   "outputs": [
    {
     "data": {
      "text/html": [
       "<div>\n",
       "<style scoped>\n",
       "    .dataframe tbody tr th:only-of-type {\n",
       "        vertical-align: middle;\n",
       "    }\n",
       "\n",
       "    .dataframe tbody tr th {\n",
       "        vertical-align: top;\n",
       "    }\n",
       "\n",
       "    .dataframe thead th {\n",
       "        text-align: right;\n",
       "    }\n",
       "</style>\n",
       "<table border=\"1\" class=\"dataframe\">\n",
       "  <thead>\n",
       "    <tr style=\"text-align: right;\">\n",
       "      <th></th>\n",
       "      <th>Sales</th>\n",
       "    </tr>\n",
       "    <tr>\n",
       "      <th>Month</th>\n",
       "      <th></th>\n",
       "    </tr>\n",
       "  </thead>\n",
       "  <tbody>\n",
       "    <tr>\n",
       "      <th>1964-01-01</th>\n",
       "      <td>2815.0</td>\n",
       "    </tr>\n",
       "    <tr>\n",
       "      <th>1964-02-01</th>\n",
       "      <td>2672.0</td>\n",
       "    </tr>\n",
       "    <tr>\n",
       "      <th>1964-03-01</th>\n",
       "      <td>2755.0</td>\n",
       "    </tr>\n",
       "    <tr>\n",
       "      <th>1964-04-01</th>\n",
       "      <td>2721.0</td>\n",
       "    </tr>\n",
       "    <tr>\n",
       "      <th>1964-05-01</th>\n",
       "      <td>2946.0</td>\n",
       "    </tr>\n",
       "  </tbody>\n",
       "</table>\n",
       "</div>"
      ],
      "text/plain": [
       "             Sales\n",
       "Month             \n",
       "1964-01-01  2815.0\n",
       "1964-02-01  2672.0\n",
       "1964-03-01  2755.0\n",
       "1964-04-01  2721.0\n",
       "1964-05-01  2946.0"
      ]
     },
     "execution_count": 8,
     "metadata": {},
     "output_type": "execute_result"
    }
   ],
   "source": [
    "df.head()"
   ]
  },
  {
   "cell_type": "code",
   "execution_count": 9,
   "id": "47fa6106-c766-4c8f-9157-06a695e2e301",
   "metadata": {},
   "outputs": [
    {
     "data": {
      "text/html": [
       "<div>\n",
       "<style scoped>\n",
       "    .dataframe tbody tr th:only-of-type {\n",
       "        vertical-align: middle;\n",
       "    }\n",
       "\n",
       "    .dataframe tbody tr th {\n",
       "        vertical-align: top;\n",
       "    }\n",
       "\n",
       "    .dataframe thead th {\n",
       "        text-align: right;\n",
       "    }\n",
       "</style>\n",
       "<table border=\"1\" class=\"dataframe\">\n",
       "  <thead>\n",
       "    <tr style=\"text-align: right;\">\n",
       "      <th></th>\n",
       "      <th>Sales</th>\n",
       "    </tr>\n",
       "  </thead>\n",
       "  <tbody>\n",
       "    <tr>\n",
       "      <th>count</th>\n",
       "      <td>105.000000</td>\n",
       "    </tr>\n",
       "    <tr>\n",
       "      <th>mean</th>\n",
       "      <td>4761.152381</td>\n",
       "    </tr>\n",
       "    <tr>\n",
       "      <th>std</th>\n",
       "      <td>2553.502601</td>\n",
       "    </tr>\n",
       "    <tr>\n",
       "      <th>min</th>\n",
       "      <td>1413.000000</td>\n",
       "    </tr>\n",
       "    <tr>\n",
       "      <th>25%</th>\n",
       "      <td>3113.000000</td>\n",
       "    </tr>\n",
       "    <tr>\n",
       "      <th>50%</th>\n",
       "      <td>4217.000000</td>\n",
       "    </tr>\n",
       "    <tr>\n",
       "      <th>75%</th>\n",
       "      <td>5221.000000</td>\n",
       "    </tr>\n",
       "    <tr>\n",
       "      <th>max</th>\n",
       "      <td>13916.000000</td>\n",
       "    </tr>\n",
       "  </tbody>\n",
       "</table>\n",
       "</div>"
      ],
      "text/plain": [
       "              Sales\n",
       "count    105.000000\n",
       "mean    4761.152381\n",
       "std     2553.502601\n",
       "min     1413.000000\n",
       "25%     3113.000000\n",
       "50%     4217.000000\n",
       "75%     5221.000000\n",
       "max    13916.000000"
      ]
     },
     "execution_count": 9,
     "metadata": {},
     "output_type": "execute_result"
    }
   ],
   "source": [
    "df.describe()"
   ]
  },
  {
   "cell_type": "markdown",
   "id": "d927e2e6-7c23-44dc-abb9-9762d7d35fee",
   "metadata": {},
   "source": [
    "# Visualize the Data"
   ]
  },
  {
   "cell_type": "code",
   "execution_count": 10,
   "id": "1cab0706-452e-433c-855c-e764dc739302",
   "metadata": {},
   "outputs": [
    {
     "data": {
      "text/plain": [
       "<Axes: xlabel='Month'>"
      ]
     },
     "execution_count": 10,
     "metadata": {},
     "output_type": "execute_result"
    },
    {
     "data": {
      "image/png": "[encoded data removed]",
      "text/plain": [
       "<Figure size 640x480 with 1 Axes>"
      ]
     },
     "metadata": {},
     "output_type": "display_data"
    }
   ],
   "source": [
    "import matplotlib.pyplot as plt\n",
    "%matplotlib inline\n",
    "df.plot()"
   ]
  },
  {
   "cell_type": "markdown",
   "id": "1693061f-ae19-4293-9b7f-2ffe7ac1e639",
   "metadata": {},
   "source": [
    "### Testing for Stationarity"
   ]
  },
  {
   "cell_type": "code",
   "execution_count": 11,
   "id": "43ba5694-da75-4957-b0bb-6393bbc44023",
   "metadata": {
    "scrolled": true
   },
   "outputs": [],
   "source": [
    "from statsmodels.tsa.stattools import adfuller\n",
    "test_result = adfuller(df['Sales'])"
   ]
  },
  {
   "cell_type": "code",
   "execution_count": 12,
   "id": "bd7c50ac-eaa4-478f-9e58-b72d5282bea5",
   "metadata": {},
   "outputs": [],
   "source": [
    "def adfuller_test(sales):\n",
    "    result=adfuller(sales)\n",
    "    labels = ['ADF Test Statistic','p-value','#Lags Used','Number of Observations Used']\n",
    "    for value,label in zip(result,labels):\n",
    "        print(label+' : '+str(value) )\n",
    "    if result[1] <= 0.05:\n",
    "        print(\"strong evidence against the null hypothesis(Ho), reject the null hypothesis. Data has no unit root and is stationary\")\n",
    "    else:\n",
    "        print(\"weak evidence against null hypothesis, time series has a unit root, indicating it is non-stationary \")"
   ]
  },
  {
   "cell_type": "code",
   "execution_count": 13,
   "id": "882f8637-b5fc-41d8-92d7-5648a8dcbf35",
   "metadata": {},
   "outputs": [
    {
     "name": "stdout",
     "output_type": "stream",
     "text": [
      "ADF Test Statistic : -1.8335930563276175\n",
      "p-value : 0.3639157716602477\n",
      "#Lags Used : 11\n",
      "Number of Observations Used : 93\n",
      "weak evidence against null hypothesis, time series has a unit root, indicating it is non-stationary \n"
     ]
    }
   ],
   "source": [
    "adfuller_test(df['Sales'])"
   ]
  },
  {
   "cell_type": "markdown",
   "id": "221dc2fb-346c-4daa-a26e-1b14e8c2dfac",
   "metadata": {},
   "source": [
    "# Differencing"
   ]
  },
  {
   "cell_type": "code",
   "execution_count": 14,
   "id": "b06631a0-560e-4a00-85db-8550f927ad20",
   "metadata": {},
   "outputs": [],
   "source": [
    "# df['Sales']\n",
    "df['Sales First Difference'] = df['Sales'] - df['Sales'].shift(1)"
   ]
  },
  {
   "cell_type": "code",
   "execution_count": 15,
   "id": "622b8014-6710-4ac8-a5d0-1afbd21a585a",
   "metadata": {},
   "outputs": [],
   "source": [
    "pd.set_option('display.max_columns', 10000)"
   ]
  },
  {
   "cell_type": "code",
   "execution_count": 16,
   "id": "d0a8221b-d750-487a-a4de-85f16d9d53c5",
   "metadata": {},
   "outputs": [
    {
     "name": "stdout",
     "output_type": "stream",
     "text": [
      "Month\n",
      "1964-01-01        NaN\n",
      "1964-02-01        NaN\n",
      "1964-03-01        NaN\n",
      "1964-04-01        NaN\n",
      "1964-05-01        NaN\n",
      "1964-06-01        NaN\n",
      "1964-07-01        NaN\n",
      "1964-08-01        NaN\n",
      "1964-09-01        NaN\n",
      "1964-10-01        NaN\n",
      "1964-11-01        NaN\n",
      "1964-12-01        NaN\n",
      "1965-01-01     2815.0\n",
      "1965-02-01     2672.0\n",
      "1965-03-01     2755.0\n",
      "1965-04-01     2721.0\n",
      "1965-05-01     2946.0\n",
      "1965-06-01     3036.0\n",
      "1965-07-01     2282.0\n",
      "1965-08-01     2212.0\n",
      "1965-09-01     2922.0\n",
      "1965-10-01     4301.0\n",
      "1965-11-01     5764.0\n",
      "1965-12-01     7312.0\n",
      "1966-01-01     2541.0\n",
      "1966-02-01     2475.0\n",
      "1966-03-01     3031.0\n",
      "1966-04-01     3266.0\n",
      "1966-05-01     3776.0\n",
      "1966-06-01     3230.0\n",
      "1966-07-01     3028.0\n",
      "1966-08-01     1759.0\n",
      "1966-09-01     3595.0\n",
      "1966-10-01     4474.0\n",
      "1966-11-01     6838.0\n",
      "1966-12-01     8357.0\n",
      "1967-01-01     3113.0\n",
      "1967-02-01     3006.0\n",
      "1967-03-01     4047.0\n",
      "1967-04-01     3523.0\n",
      "1967-05-01     3937.0\n",
      "1967-06-01     3986.0\n",
      "1967-07-01     3260.0\n",
      "1967-08-01     1573.0\n",
      "1967-09-01     3528.0\n",
      "1967-10-01     5211.0\n",
      "1967-11-01     7614.0\n",
      "1967-12-01     9254.0\n",
      "1968-01-01     5375.0\n",
      "1968-02-01     3088.0\n",
      "1968-03-01     3718.0\n",
      "1968-04-01     4514.0\n",
      "1968-05-01     4520.0\n",
      "1968-06-01     4539.0\n",
      "1968-07-01     3663.0\n",
      "1968-08-01     1643.0\n",
      "1968-09-01     4739.0\n",
      "1968-10-01     5428.0\n",
      "1968-11-01     8314.0\n",
      "1968-12-01    10651.0\n",
      "1969-01-01     3633.0\n",
      "1969-02-01     4292.0\n",
      "1969-03-01     4154.0\n",
      "1969-04-01     4121.0\n",
      "1969-05-01     4647.0\n",
      "1969-06-01     4753.0\n",
      "1969-07-01     3965.0\n",
      "1969-08-01     1723.0\n",
      "1969-09-01     5048.0\n",
      "1969-10-01     6922.0\n",
      "1969-11-01     9858.0\n",
      "1969-12-01    11331.0\n",
      "1970-01-01     4016.0\n",
      "1970-02-01     3957.0\n",
      "1970-03-01     4510.0\n",
      "1970-04-01     4276.0\n",
      "1970-05-01     4968.0\n",
      "1970-06-01     4677.0\n",
      "1970-07-01     3523.0\n",
      "1970-08-01     1821.0\n",
      "1970-09-01     5222.0\n",
      "1970-10-01     6872.0\n",
      "1970-11-01    10803.0\n",
      "1970-12-01    13916.0\n",
      "1971-01-01     2639.0\n",
      "1971-02-01     2899.0\n",
      "1971-03-01     3370.0\n",
      "1971-04-01     3740.0\n",
      "1971-05-01     2927.0\n",
      "1971-06-01     3986.0\n",
      "1971-07-01     4217.0\n",
      "1971-08-01     1738.0\n",
      "1971-09-01     5221.0\n",
      "1971-10-01     6424.0\n",
      "1971-11-01     9842.0\n",
      "1971-12-01    13076.0\n",
      "1972-01-01     3934.0\n",
      "1972-02-01     3162.0\n",
      "1972-03-01     4286.0\n",
      "1972-04-01     4676.0\n",
      "1972-05-01     5010.0\n",
      "1972-06-01     4874.0\n",
      "1972-07-01     4633.0\n",
      "1972-08-01     1659.0\n",
      "1972-09-01     5951.0\n"
     ]
    }
   ],
   "source": [
    "print(df['Sales'].shift(12).to_string())"
   ]
  },
  {
   "cell_type": "code",
   "execution_count": 17,
   "id": "42741500-306e-4518-b142-701d31dfd77b",
   "metadata": {},
   "outputs": [],
   "source": [
    "df['Seasonal First Difference']=df['Sales']-df['Sales'].shift(12)"
   ]
  },
  {
   "cell_type": "code",
   "execution_count": 18,
   "id": "c9cc78ff-53d3-40c1-a0fe-32c141b1df63",
   "metadata": {},
   "outputs": [
    {
     "name": "stdout",
     "output_type": "stream",
     "text": [
      "ADF Test Statistic : -7.626619157213164\n",
      "p-value : 2.060579696813685e-11\n",
      "#Lags Used : 0\n",
      "Number of Observations Used : 92\n",
      "strong evidence against the null hypothesis(Ho), reject the null hypothesis. Data has no unit root and is stationary\n"
     ]
    }
   ],
   "source": [
    "## Again Test Dickey Fuller test\n",
    "adfuller_test(df['Seasonal First Difference'].dropna())"
   ]
  },
  {
   "cell_type": "code",
   "execution_count": 19,
   "id": "eed041e9-5943-4899-bcb0-dca9df9071ea",
   "metadata": {},
   "outputs": [
    {
     "data": {
      "text/plain": [
       "<Axes: xlabel='Month'>"
      ]
     },
     "execution_count": 19,
     "metadata": {},
     "output_type": "execute_result"
    },
    {
     "data": {
      "image/png": "[encoded data removed]",
      "text/plain": [
       "<Figure size 640x480 with 1 Axes>"
      ]
     },
     "metadata": {},
     "output_type": "display_data"
    }
   ],
   "source": [
    "df['Seasonal First Difference'].plot()"
   ]
  },
  {
   "cell_type": "code",
   "execution_count": 24,
   "id": "c32b2eae-b4ff-4a7c-8fae-0409cf18d7a1",
   "metadata": {},
   "outputs": [
    {
     "data": {
      "image/png": "[encoded data removed]",
      "text/plain": [
       "<Figure size 640x480 with 1 Axes>"
      ]
     },
     "metadata": {},
     "output_type": "display_data"
    }
   ],
   "source": [
    "from pandas.plotting import autocorrelation_plot\n",
    "autocorrelation_plot(df['Sales'])\n",
    "plt.show()"
   ]
  },
  {
   "cell_type": "markdown",
   "id": "d65a29bc-4c7f-42a4-9271-775eab0151ef",
   "metadata": {},
   "source": [
    "# Final Thoughts"
   ]
  },
  {
   "cell_type": "code",
   "execution_count": 27,
   "id": "af78d82e-eb28-46f4-b2a5-a5b5250cdd6a",
   "metadata": {},
   "outputs": [],
   "source": [
    "from statsmodels.graphics.tsaplots import plot_acf, plot_pacf"
   ]
  },
  {
   "cell_type": "code",
   "execution_count": 28,
   "id": "b1f6f802-c4e9-4f28-bfc4-ec23d91e7f08",
   "metadata": {},
   "outputs": [
    {
     "ename": "NameError",
     "evalue": "name 'sm' is not defined",
     "output_type": "error",
     "traceback": [
      "\u001b[1;31m---------------------------------------------------------------------------\u001b[0m",
      "\u001b[1;31mNameError\u001b[0m                                 Traceback (most recent call last)",
      "Cell \u001b[1;32mIn[28], line 3\u001b[0m\n\u001b[0;32m      1\u001b[0m fig \u001b[38;5;241m=\u001b[39m plt\u001b[38;5;241m.\u001b[39mfigure(figsize\u001b[38;5;241m=\u001b[39m(\u001b[38;5;241m12\u001b[39m,\u001b[38;5;241m8\u001b[39m))\n\u001b[0;32m      2\u001b[0m ax1 \u001b[38;5;241m=\u001b[39m fig\u001b[38;5;241m.\u001b[39madd_subplot(\u001b[38;5;241m211\u001b[39m)\n\u001b[1;32m----> 3\u001b[0m fig \u001b[38;5;241m=\u001b[39m \u001b[43msm\u001b[49m\u001b[38;5;241m.\u001b[39mgraphics\u001b[38;5;241m.\u001b[39mtsa\u001b[38;5;241m.\u001b[39mplot_acf(df[\u001b[38;5;124m'\u001b[39m\u001b[38;5;124mSeasonal First Difference\u001b[39m\u001b[38;5;124m'\u001b[39m]\u001b[38;5;241m.\u001b[39miloc[\u001b[38;5;241m13\u001b[39m:],lags\u001b[38;5;241m=\u001b[39m\u001b[38;5;241m40\u001b[39m,ax\u001b[38;5;241m=\u001b[39max1)\n\u001b[0;32m      4\u001b[0m ax2 \u001b[38;5;241m=\u001b[39m fig\u001b[38;5;241m.\u001b[39madd_subplot(\u001b[38;5;241m212\u001b[39m)\n\u001b[0;32m      5\u001b[0m fig \u001b[38;5;241m=\u001b[39m sm\u001b[38;5;241m.\u001b[39mgraphics\u001b[38;5;241m.\u001b[39mtsa\u001b[38;5;241m.\u001b[39mplot_pacf(df[\u001b[38;5;124m'\u001b[39m\u001b[38;5;124mSeasonal First Difference\u001b[39m\u001b[38;5;124m'\u001b[39m]\u001b[38;5;241m.\u001b[39miloc[\u001b[38;5;241m13\u001b[39m:],lags\u001b[38;5;241m=\u001b[39m\u001b[38;5;241m40\u001b[39m,ax\u001b[38;5;241m=\u001b[39max2)\n",
      "\u001b[1;31mNameError\u001b[0m: name 'sm' is not defined"
     ]
    },
    {
     "data": {
      "image/png": "[encoded data removed]",
      "text/plain": [
       "<Figure size 1200x800 with 1 Axes>"
      ]
     },
     "metadata": {},
     "output_type": "display_data"
    }
   ],
   "source": [
    "fig = plt.figure(figsize=(12,8))\n",
    "ax1 = fig.add_subplot(211)\n",
    "fig = sm.graphics.tsa.plot_acf(df['Seasonal First Difference'].iloc[13:],lags=40,ax=ax1)\n",
    "ax2 = fig.add_subplot(212)\n",
    "fig = sm.graphics.tsa.plot_pacf(df['Seasonal First Difference'].iloc[13:],lags=40,ax=ax2)"
   ]
  },
  {
   "cell_type": "code",
   "execution_count": null,
   "id": "036df0be-f242-43c2-afb5-a63bd870edf2",
   "metadata": {},
   "outputs": [],
   "source": []
  }
 ],
 "metadata": {
  "kernelspec": {
   "display_name": "Python 3 (ipykernel)",
   "language": "python",
   "name": "python3"
  },
  "language_info": {
   "codemirror_mode": {
    "name": "ipython",
    "version": 3
   },
   "file_extension": ".py",
   "mimetype": "text/x-python",
   "name": "python",
   "nbconvert_exporter": "python",
   "pygments_lexer": "ipython3",
   "version": "3.11.5"
  }
 },
 "nbformat": 4,
 "nbformat_minor": 5
}
